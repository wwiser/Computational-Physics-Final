{
 "cells": [
  {
   "cell_type": "markdown",
   "metadata": {},
   "source": [
    "# Social Network Simulations and Analysis"
   ]
  },
  {
   "cell_type": "markdown",
   "metadata": {},
   "source": [
    "## Introduction: Project Goals and Objectives\n",
    "If you are in a rush, the most important section is the Simulation Section. \n",
    "\n",
    "Networks are systems of nodes (often called vertices) and edges that can be used to represent social, technological, biological, and other systems. In mathematics, networks are called graphs, and they have several interesting mathematical properties.\n",
    "\n",
    "Social networks are a type of network where each node represents an individual person, and each edge represents a social relationship between two people. It is also possible to create social networks where each node represents a group of people, but for my project I will focus on individuals. \n",
    "\n",
    "The primary goal of this project is to identify the potential processes by which different social phenomenon occur, specifically the formation of social groups and the emergence of hierarchies of status between individuals. In order to identify these processes I will simulate social network behavior over time using simple predetermined rules and examine the results. \n",
    "\n",
    "In order to measure the extent to which groups are formed, I will use a measure called the clustering coefficient which is a measure of the tendency of a nodes connections to be connected to each other. It is measured for each node, so to determine the overall network characteristic I will take the average over all nodes. Similarly for hierarchy I will use a measure called betweenness centrality, which measures the number of shortest paths that pass through a node. I will show the distribution of betweenness centrality to show the level of hierarchy in the network. The details of these measurements will be elaborated on later. "
   ]
  },
  {
   "cell_type": "code",
   "execution_count": 1,
   "metadata": {},
   "outputs": [],
   "source": [
    "import matplotlib.pyplot as plt\n",
    "#used for plotting\n",
    "import random \n",
    "#used to add randomness into simulations\n",
    "import numpy as np\n",
    "import numpy, os, random\n",
    "from PIL import Image, ImageDraw\n",
    "#used for making network visualizations\n",
    "import tempfile\n",
    "import random, decimal\n",
    "from igraph import *\n",
    "#used for network generation and measurements\n",
    "import math\n",
    "#import cairo"
   ]
  },
  {
   "cell_type": "code",
   "execution_count": 34,
   "metadata": {},
   "outputs": [],
   "source": [
    "#functions to call now so that you don't get an error later\n",
    "def graphplot3(net):\n",
    "    n = len(net.degree())\n",
    "    #number of nodes\n",
    "    windowsize=600\n",
    "    xd=net.vs[\"x\"]\n",
    "    yd=net.vs[\"y\"]\n",
    "    im = Image.new('RGB', (windowsize,windowsize), 'white')\n",
    "    draw = ImageDraw.Draw(im)\n",
    "    dotsize=10\n",
    "    #if len(n2.edge_betweenness())>0:\n",
    "     #   c=max(n2.edge_betweenness())\n",
    "   # else:\n",
    "     #   c=1\n",
    "    center = windowsize/2.\n",
    "    radius = (1.-2*20)*(n+1)/2.\n",
    "    #xd, yd = np.arange(0,400,400//n), np.arange(0,400,400//n)\n",
    "    # Create a dictionary that maps nodes to their positions around the circle\n",
    "    for i in range(n):\n",
    "        for j in range(n):\n",
    "            if (i,j) in net.get_edgelist():\n",
    "                a=net.get_eid(i,j)\n",
    "                draw.line(((xd[i],yd[i]), (xd[j],yd[j])),fill=(net.es[\"color\"][a]))\n",
    "    for i in range(n):\n",
    "         draw.ellipse( ((xd[i]-dotsize/2, yd[i]-dotsize/2),\n",
    "                       (xd[i]+dotsize/2, yd[i]+dotsize/2)), fill=(net.vs[\"color\"][i]))\n",
    "    return im\n",
    "\n",
    "def distributions(net,bins2):\n",
    "    y=net.degree()\n",
    "    z=net.edge_betweenness()\n",
    "    w=net.eigenvector_centrality(directed=False, scale=True)\n",
    "    plt.hist(y,bins='auto');\n",
    "    plt.title(\"Distribution of Node Degrees\")\n",
    "    plt.show()\n",
    "    plt.hist(z,bins='auto');\n",
    "    plt.title(\"Distribution of Edge Betweenness\")\n",
    "    plt.show()\n",
    "    plt.hist(w,bins=bins2);\n",
    "    plt.title(\"Distribution of Node Eigenvector Centrality\")\n",
    "    plt.show()\n",
    "    \n",
    "def modularity(net):\n",
    "    n = len(net.degree())\n",
    "    b=net.community_optimal_modularity()\n",
    "    modules = len(b)\n",
    "    x=np.zeros(n)\n",
    "    for i in range(modules):\n",
    "        a=len(b[i])\n",
    "        for j in range(a):\n",
    "            x[b[i][j]]=i\n",
    "    return [net.modularity(x, weights=None), modules]"
   ]
  },
  {
   "cell_type": "markdown",
   "metadata": {},
   "source": [
    "## Starting from Scratch\n",
    "Initially I created an object class for networks and began graphing the networks and writing code to measure the network characteristics. However, as the networks became larger and more complex, my code became too slow, so I decided to start using the python igraph package which has optimized algorithms for creating and measuring networks. Here is the code that I started with. "
   ]
  },
  {
   "cell_type": "code",
   "execution_count": 3,
   "metadata": {},
   "outputs": [],
   "source": [
    "#defines a class for networks\n",
    "class Network(object):\n",
    "    def __init__(self, edges=None, id=None,loc=None, cent=None,col=None,size=None):\n",
    "        self.edges = edges\n",
    "        #attribute contains the edges of the graph as a matrix \n",
    "        #where Aij is one if there is an edge connecting nodes i and j, and 0 if there isnt\n",
    "        self.id = id\n",
    "        #this is a list of id's of the nodes, ranging from 0 to n-1\n",
    "        self.loc = loc\n",
    "        #this is the coordinates of each node, each node has an x and y coordinate\n",
    "        #self.cent = cent\n",
    "        self.col = col\n",
    "        #this is the color of each node\n",
    "        self.size = size\n",
    "        #this is the size of each node"
   ]
  },
  {
   "cell_type": "markdown",
   "metadata": {},
   "source": [
    "Notes: There are a few ways to represent edges in a network. My initial method was to represent them as a sqaure matrix A of dimensions N by N where N is the number of node. If $A_{ij}$ is one, it means there is an edge between nodes i and j, if it is 0 it means there is not an edge between them. In some networks, edges have directions, meaning an edge going from node i to node j is different from an edge going from node j to node i. This would mean $A_{ij}$ does not equal $A_{ji}$. This type of network is called a directed network, since the edges have a direction. Another type of network is an undirected network, where an edge from node i to node j is the same as a node going from node j to node i. In this type of network, $A_{ij}$ must equal $A_{ji}$ for all points in the edge matrix. In my project I will ONLY be dealing with UN-directed networks, so the matrix must be symmetric about $A_{ii}$ for i in N. In some networks, it is possible for a node to have an edge with itself, called a loop. This would mean $A_{ii}$ would equal 2 for an undirected looped node, and 1 for a directed looped node. However, my networks will not contain loops, so the points $A_{ii}$ will always be zero. \n",
    "\n",
    "The package igraph does not use an edge matrix. Instead it takes edges in the form of coordinates (node1, node2), and each edge has an id corresponding to when it was added to the network. It is important to note that igraph assumes that edges are undirected unless it is specified. \n"
   ]
  },
  {
   "cell_type": "code",
   "execution_count": 3,
   "metadata": {},
   "outputs": [],
   "source": [
    "def createnetwork(N):\n",
    "    edges=np.zeros((N,N))\n",
    "    #no edges initially\n",
    "    id=np.arange(N)\n",
    "    loc = np.arange(0,50*N,50),np.arange(0,50*N,50)\n",
    "    #sequential locations\n",
    "    cent=np.zeros(N)\n",
    "    col=['red']*N\n",
    "    size=1\n",
    "    return Network(edges,id,loc,cent,col,size)\n",
    "#this creates a simple network with n nodes and no edges"
   ]
  },
  {
   "cell_type": "code",
   "execution_count": 4,
   "metadata": {},
   "outputs": [],
   "source": [
    "def createnetwork2(N):\n",
    "    edges=np.zeros((N,N))\n",
    "    id=np.arange(N)\n",
    "    radius=150\n",
    "    center=200\n",
    "    loc=[None]*N,[None]*N\n",
    "    for index in range(N):\n",
    "        theta = 2.*numpy.pi*float(index)/N\n",
    "        loc[0][index] = radius * numpy.cos(theta) + center\n",
    "        loc[1][index] = radius * numpy.sin(theta) + center\n",
    "    #the locations are in a circle instead\n",
    "    cent=np.zeros(N)\n",
    "    col=['red']*N\n",
    "    size=1\n",
    "    return Network(edges,id,loc,cent,col,size)\n",
    "#this creates a simple network where the network is in a circle instead"
   ]
  },
  {
   "cell_type": "code",
   "execution_count": 33,
   "metadata": {},
   "outputs": [],
   "source": [
    "def basicgraphplot(net):\n",
    "    n = len(net.id)\n",
    "    #size of network\n",
    "    windowsize=400\n",
    "    im = Image.new('RGB', (windowsize,windowsize), 'white')\n",
    "    draw = ImageDraw.Draw(im)\n",
    "    dotsize=net.size*10\n",
    "    color = net.col\n",
    "    center = windowsize/2.\n",
    "    radius = (1.-2*20)*(n+1)/2.\n",
    "    xd=net.loc[0]\n",
    "    yd=net.loc[1]\n",
    "    # Create a dictionary that maps nodes to their positions around the circle\n",
    "    for i in range(n):\n",
    "        for j in range(n):\n",
    "            if net.edges[i,j]>0:\n",
    "                draw.line(((xd[i],yd[i]), (xd[j],yd[j])),fill=(0,0,0))\n",
    "    for i in range(n):\n",
    "         draw.ellipse( ((xd[i]-dotsize/2, yd[i]-dotsize/2),\n",
    "                       (xd[i]+dotsize/2, yd[i]+dotsize/2)), fill=net.col[i] )\n",
    "    return im\n",
    "#this function draws the nodes and edges with the given locations and colors"
   ]
  },
  {
   "cell_type": "code",
   "execution_count": 58,
   "metadata": {},
   "outputs": [],
   "source": [
    "net1=createnetwork2(10)"
   ]
  },
  {
   "cell_type": "code",
   "execution_count": 40,
   "metadata": {},
   "outputs": [],
   "source": [
    "#simple network simulation \n",
    "#select random pair, if a random decimal is greater than p, make an edge\n",
    "def networksimulation1(net,iterations, p):\n",
    "    l=[]\n",
    "    n = len(net.id)  \n",
    "    lis=net.id\n",
    "    for i in range(iterations):\n",
    "        sel=[random.random() for i in range(n)]\n",
    "        for i in range(n):\n",
    "            if sel[i]<p:\n",
    "                sel[i]=1\n",
    "            else: \n",
    "                sel[i]=0\n",
    "        random.shuffle(lis)\n",
    "        for j in range(n//2):\n",
    "            if sel[j]==1:\n",
    "                net.edges[int(lis[2*j])][int(lis[2*j+1])]=1\n",
    "                net.edges[int(lis[2*j+1])][int(lis[2*j])]=1\n",
    "                #creates edge if the random decimal is greater than the probability\n",
    "    return net"
   ]
  },
  {
   "cell_type": "code",
   "execution_count": 59,
   "metadata": {},
   "outputs": [
    {
     "data": {
      "image/png": "[encoded data removed]",
      "text/plain": [
       "<PIL.Image.Image image mode=RGB size=400x400 at 0x110C4FCC0>"
      ]
     },
     "execution_count": 59,
     "metadata": {},
     "output_type": "execute_result"
    }
   ],
   "source": [
    "basicgraphplot(net1)"
   ]
  },
  {
   "cell_type": "code",
   "execution_count": 60,
   "metadata": {},
   "outputs": [
    {
     "data": {
      "text/plain": [
       "<__main__.Network at 0x110c4fdd8>"
      ]
     },
     "execution_count": 60,
     "metadata": {},
     "output_type": "execute_result"
    }
   ],
   "source": [
    "networksimulation1(net1,8,0.3)"
   ]
  },
  {
   "cell_type": "code",
   "execution_count": 61,
   "metadata": {},
   "outputs": [
    {
     "data": {
      "image/png": "[encoded data removed]",
      "text/plain": [
       "<PIL.Image.Image image mode=RGB size=400x400 at 0x110C2EC88>"
      ]
     },
     "execution_count": 61,
     "metadata": {},
     "output_type": "execute_result"
    }
   ],
   "source": [
    "basicgraphplot(net1)"
   ]
  },
  {
   "cell_type": "markdown",
   "metadata": {},
   "source": [
    "This simple network simulation takes a network and creates edges through this process:\n",
    "1. For each iteration, take the list of nodes, and shuffle it.\n",
    "2. Take this shuffled list and divide it into pairs. \n",
    "3. Generate a random decimal for each pair. \n",
    "4. If the decimal is less than the specified probability, then create an edge between the two nodes. If not, do nothing. \n",
    "5. Return the network after the specified number of iterations. \n",
    "\n",
    "This algorithm creates edges randomly. If the probability is low, then few edges will be made each iteration, and if it is high then many edges will be made each iteration. "
   ]
  },
  {
   "cell_type": "markdown",
   "metadata": {},
   "source": [
    "### Measurements: Shortest Path\n",
    "The shortest path between two nodes is the the shortest number of edges needed to connect two nodes. This measurement can tell us how well connected two nodes are: a low shortest path is well connected and a high shortest path is poorly connected. The average shortest path of a network tells us how well connected the overall network is. \n",
    "\n",
    "The shortest path can also be used to find the betweenness centrality of a node. The betweenness centrality of node a is defined as the sum of the ratio of the number of shortest paths that pass through a over the number of shortest paths in total for each possible pair of nodes that does not contain a. This measurement tells us how necessary node a is in bridging other nodes efficiently. I originally wanted to use the betweenness centrality as a measure of social status, but it is a computationally complex measure, so I opted for the eigenvector centrality instead. "
   ]
  },
  {
   "cell_type": "code",
   "execution_count": 48,
   "metadata": {},
   "outputs": [],
   "source": [
    "#this is an algorithm for calculating the shortest path between two nodes\n",
    "def find_shortest_path(edges, start, end, path=[]):\n",
    "        path = path + [start]\n",
    "        #start with an list containing the starting point\n",
    "        if start == end:\n",
    "            #if the starting point is the end point, you have found the shortest path\n",
    "            return path\n",
    "        if int(sum(edges[int(start)]))==0:\n",
    "            #if the starting point has no edges, there is no shortest path\n",
    "            return None\n",
    "        shortest = None\n",
    "        l=[]\n",
    "        #create dummy list\n",
    "        for i in range(len(edges)):\n",
    "            if edges[int(start)][i]>0:\n",
    "                l.append(i)\n",
    "                #for the nodes that are connected to the start, add to l\n",
    "        for node in l:\n",
    "            #for all of the nodes connected to l, if the node isnt in the path, \n",
    "            #run this function again starting at the new node\n",
    "            if node not in path:\n",
    "                newpath = find_shortest_path(edges, node, end, path)\n",
    "                if newpath:\n",
    "                    #if the newpath is the shortest, rename it shortest\n",
    "                    if not shortest or len(newpath) < len(shortest):\n",
    "                        shortest = newpath\n",
    "        return shortest #returns shortest path\n",
    "#https://www.python.org/doc/essays/graphs/"
   ]
  },
  {
   "cell_type": "code",
   "execution_count": 63,
   "metadata": {},
   "outputs": [
    {
     "data": {
      "text/plain": [
       "[9, 3, 6]"
      ]
     },
     "execution_count": 63,
     "metadata": {},
     "output_type": "execute_result"
    }
   ],
   "source": [
    "find_shortest_path(net1.edges,9,6, path=[])"
   ]
  },
  {
   "cell_type": "markdown",
   "metadata": {},
   "source": [
    "The shortest path is returned as a list of the nodes connecting the starting and ending nodes. "
   ]
  },
  {
   "cell_type": "code",
   "execution_count": 103,
   "metadata": {},
   "outputs": [],
   "source": [
    "net2=createnetwork2(50)"
   ]
  },
  {
   "cell_type": "code",
   "execution_count": 104,
   "metadata": {},
   "outputs": [
    {
     "data": {
      "text/plain": [
       "<__main__.Network at 0x110c51550>"
      ]
     },
     "execution_count": 104,
     "metadata": {},
     "output_type": "execute_result"
    }
   ],
   "source": [
    "networksimulation1(net2,30,0.08)"
   ]
  },
  {
   "cell_type": "code",
   "execution_count": 105,
   "metadata": {},
   "outputs": [
    {
     "data": {
      "image/png": "[encoded data removed]",
      "text/plain": [
       "<PIL.Image.Image image mode=RGB size=400x400 at 0x110C51FD0>"
      ]
     },
     "execution_count": 105,
     "metadata": {},
     "output_type": "execute_result"
    }
   ],
   "source": [
    "basicgraphplot(net2)"
   ]
  },
  {
   "cell_type": "code",
   "execution_count": 107,
   "metadata": {},
   "outputs": [
    {
     "data": {
      "text/plain": [
       "[41, 25, 43, 8, 11]"
      ]
     },
     "execution_count": 107,
     "metadata": {},
     "output_type": "execute_result"
    }
   ],
   "source": [
    "find_shortest_path(net2.edges,41,11, path=[])"
   ]
  },
  {
   "cell_type": "markdown",
   "metadata": {},
   "source": [
    "For a graph that has only 50 nodes and a 30 iterations at 0.08 probability, the calculation of the shortest path for one pair of nodes is already computationally difficult. This means that the betweenness centrality and other measures requiring the shortest path are not practical for larger networks with more edges. "
   ]
  },
  {
   "cell_type": "markdown",
   "metadata": {},
   "source": [
    "## Python igraph: A Library for Graphs and Networks\n",
    "Instead of coding the algorithms for creating and measuring graphs myself, I decided to use the library igraph, which has a built in class for graphs/networks, as well as many functions for measuring networks. \n",
    "\n",
    "Here are the basic functions of igraph:\n",
    "1. g=Graph() creates an empty graph named g\n",
    "2. g.summary() gives a summary of the graph, the output is the number of nodes followed by the number of edges \n",
    "2. g.add_vertices(n) adds n vertices to the graph \n",
    "3. g.add_edges([(edge 1 coordinates),...(edge n coordinates)]) adds n edges of the given coordinates. If a new edge is added to the network, it is put at the end of the edge list \n",
    "4. g.get_eid(a,b) gives the position of the edge connecting nodes a and b in the edge list\n",
    "5. g.get_eid() gives the list of edges of graph g\n",
    "  \n",
    "There are many measurements that can be made in igraph relatively quickly, which makes it useful for determining the network characteristics. One of the most basic measurements is node degree, which is the number of edges connected to a node. In terms of social networks, this can be thought of simply as a measure of an individuals popularity. \n",
    "\n",
    "An important characteristic of edges is the edge betweenness, which is basically the same as betweenness centrality but it is calculated for edges rather than nodes. igraph calculates the edge betweenness very quickly. \n",
    "\n",
    "Another important measure is the eigenvector centrality of a node. The eigenvector centrality of a node is the sum of the eigenvector centralities of the nodes it is connected to multiplied by a constant. In effect, a node with a high eigenvector centrality is well connected and/or connected to nodes that are well connected. It can be calculated by setting every node's eigenvector centrality to 1, and then updating the centrality iteratively based on the formula until the values have stabilized. \n",
    "\n",
    "One way to measure the existence of groups is the modularity. The modularity of a graph is the fraction of edges that fall within a previously specified set of groups minus the expected fraction if edges were determined randomly. The modularity ranges from -1 to 1, where a modularity greater than 0.3 means that the groups are pretty significantly tied together. In order to determine the modularity, the groups of the network must be determined first. Determining groups for a network is mathematically complex task, but igraph has a built in function for determining the optimal set of groups in a network. \n",
    "\n",
    "Here are the functions for making the measurements above:\n",
    "1. g.degree() gives a list of the degrees of each node, which is the number of edges connected to a node. This is useful for many measurements.\n",
    "2. g.edge_betweenness() returns a list of the edge betweenness for every edge\n",
    "3. g.eigenvector_centrality(directed=False, scale=True) gives a list of the eigenvector centralities of each node. Scale = True normalizes the values to 1 and directed=False confirms that the network is undirected. \n",
    "4. g.community_optimal_modularity() gives the optimal list of the groups within the network, where the groups list the id's of each node. This function is useful for small networks (n<100) but is slow for networks that are larger than 100 and networks with many edges. \n",
    "5. g.modularity(x, weights=None) calculates the modularity of a network for a list of groups x. Weights are not used in the project, so weights=None. Using this function along with the one above allows us to calculate the groups and modularity of a network without knowing anything about the groups beforehand. \n",
    "\n",
    "Helpful igraph documentation:\n",
    "1. https://igraph.org/python/doc/igraph.Graph-class.html\n",
    "2. https://igraph.org/python/doc/tutorial/tutorial.html\n"
   ]
  },
  {
   "cell_type": "code",
   "execution_count": 35,
   "metadata": {},
   "outputs": [],
   "source": [
    "n1=Graph()\n",
    "n1.add_vertices(3)\n",
    "n1.add_edges([(2,1),(0,1)])"
   ]
  },
  {
   "cell_type": "code",
   "execution_count": 36,
   "metadata": {},
   "outputs": [
    {
     "data": {
      "text/plain": [
       "[(1, 2), (0, 1)]"
      ]
     },
     "execution_count": 36,
     "metadata": {},
     "output_type": "execute_result"
    }
   ],
   "source": [
    "n1.get_edgelist()"
   ]
  },
  {
   "cell_type": "code",
   "execution_count": 37,
   "metadata": {},
   "outputs": [
    {
     "data": {
      "text/plain": [
       "'IGRAPH U--- 3 2 -- '"
      ]
     },
     "execution_count": 37,
     "metadata": {},
     "output_type": "execute_result"
    }
   ],
   "source": [
    "n1.summary()"
   ]
  },
  {
   "cell_type": "code",
   "execution_count": 38,
   "metadata": {},
   "outputs": [
    {
     "data": {
      "text/plain": [
       "0"
      ]
     },
     "execution_count": 38,
     "metadata": {},
     "output_type": "execute_result"
    }
   ],
   "source": [
    "n1.get_eid(2,1)"
   ]
  },
  {
   "cell_type": "code",
   "execution_count": 39,
   "metadata": {},
   "outputs": [
    {
     "data": {
      "text/plain": [
       "[1, 2, 1]"
      ]
     },
     "execution_count": 39,
     "metadata": {},
     "output_type": "execute_result"
    }
   ],
   "source": [
    "n1.degree()"
   ]
  },
  {
   "cell_type": "markdown",
   "metadata": {},
   "source": [
    "For plotting graphs using igraph, it useful to create a list of the x and y coordinates of the network and add them as an attribute to the network and then plot them using this information. igraph allows for the addition of attributes to networks. These attributes are unique to the individual networks. They can be attributes related to the nodes or to the vertices. \n",
    "\n",
    "The command for adding network attributes is:\n",
    "1. g.vs[\"attribute name\"]=[list of attributes for each node] for nodes\n",
    "2. g.es[\"attribute name\"]=[list of attributes for each edge] for edges"
   ]
  },
  {
   "cell_type": "code",
   "execution_count": 40,
   "metadata": {},
   "outputs": [],
   "source": [
    "n2=Graph()"
   ]
  },
  {
   "cell_type": "code",
   "execution_count": 41,
   "metadata": {},
   "outputs": [],
   "source": [
    "n2.add_vertices(50)"
   ]
  },
  {
   "cell_type": "code",
   "execution_count": 42,
   "metadata": {},
   "outputs": [
    {
     "data": {
      "text/plain": [
       "'IGRAPH U--- 50 0 -- '"
      ]
     },
     "execution_count": 42,
     "metadata": {},
     "output_type": "execute_result"
    }
   ],
   "source": [
    "n2.summary()"
   ]
  },
  {
   "cell_type": "code",
   "execution_count": 43,
   "metadata": {},
   "outputs": [],
   "source": [
    "x=[]\n",
    "y=[]\n",
    "for i in range(50):\n",
    "        theta = 2.*np.pi*float(i)/50\n",
    "        x.append(150 * np.cos(theta) + 200)\n",
    "        y.append(150 * np.sin(theta) + 200)\n",
    "#this is a simple set of circular coordinates"
   ]
  },
  {
   "cell_type": "code",
   "execution_count": 44,
   "metadata": {},
   "outputs": [],
   "source": [
    "edgecolors=['blue']*50\n",
    "nodecolors=['red']*50\n",
    "#sets a list for the colors of the edges and nodes"
   ]
  },
  {
   "cell_type": "code",
   "execution_count": 45,
   "metadata": {},
   "outputs": [],
   "source": [
    "n2.vs[\"x\"]=x\n",
    "n2.vs[\"y\"]=y\n",
    "n2.vs[\"color\"]=nodecolors\n",
    "n2.es[\"color\"]=edgecolors\n",
    "#this sets the x, y, and color attributes for the network"
   ]
  },
  {
   "cell_type": "code",
   "execution_count": 46,
   "metadata": {
    "scrolled": true
   },
   "outputs": [
    {
     "data": {
      "image/png": "[encoded data removed]",
      "text/plain": [
       "<PIL.Image.Image image mode=RGB size=600x600 at 0x109351940>"
      ]
     },
     "execution_count": 46,
     "metadata": {},
     "output_type": "execute_result"
    }
   ],
   "source": [
    "graphplot3(n2)"
   ]
  },
  {
   "cell_type": "markdown",
   "metadata": {},
   "source": [
    "## Random Networks\n",
    "igraph has several algorithms for creating random networks. One popular random network is the Erdos-Renyi method. For this method, the number of nodes is specified and then random edges are generated in one of two ways. The first is by specifying a probability, where every possible edge is created with the specified probability. Alternatively, the number of desired edges m can be specified and the edges are selected randomly among the possible edges. \n",
    "\n",
    "Another random network generator I will be using is Random Geometric Graph method. The function Graph.GRG(nodes,d) creates a random geomtric graph through a geographic algorithm. The algorithm works as follows:\n",
    "1. Give each nodes an id number\n",
    "2. For each node assign a random set of x and y coordinates within a unit square\n",
    "3. For nodes within distance d of each other, create an edge between the two nodes.  \n"
   ]
  },
  {
   "cell_type": "code",
   "execution_count": 47,
   "metadata": {},
   "outputs": [],
   "source": [
    "n3=Graph.Erdos_Renyi(50, 0.05, directed=False, loops=False)\n",
    "#a network of fifty nodes, and edges chosen with probability p, undirected and no loops"
   ]
  },
  {
   "cell_type": "code",
   "execution_count": 48,
   "metadata": {},
   "outputs": [],
   "source": [
    "n3.vs[\"x\"]=x\n",
    "n3.vs[\"y\"]=y\n",
    "n3.vs[\"color\"]=nodecolors\n",
    "n3.es[\"color\"]=edgecolors\n",
    "#this sets the x and y attributes for the network"
   ]
  },
  {
   "cell_type": "code",
   "execution_count": 49,
   "metadata": {},
   "outputs": [
    {
     "data": {
      "image/png": "[encoded data removed]",
      "text/plain": [
       "<PIL.Image.Image image mode=RGB size=600x600 at 0x109351C50>"
      ]
     },
     "execution_count": 49,
     "metadata": {},
     "output_type": "execute_result"
    }
   ],
   "source": [
    "graphplot3(n3)"
   ]
  },
  {
   "cell_type": "code",
   "execution_count": 19,
   "metadata": {},
   "outputs": [
    {
     "name": "stdout",
     "output_type": "stream",
     "text": [
      "IGRAPH U--- 50 60 -- \n",
      "+ attr: color (v), x (v), y (v), color (e)\n"
     ]
    }
   ],
   "source": [
    "summary(n3)"
   ]
  },
  {
   "cell_type": "code",
   "execution_count": 92,
   "metadata": {},
   "outputs": [],
   "source": [
    "n4=CreateGeo(50,0.2)"
   ]
  },
  {
   "cell_type": "code",
   "execution_count": 93,
   "metadata": {},
   "outputs": [
    {
     "data": {
      "image/png": "[encoded data removed]",
      "text/plain": [
       "<PIL.Image.Image image mode=RGB size=600x600 at 0x1093674E0>"
      ]
     },
     "execution_count": 93,
     "metadata": {},
     "output_type": "execute_result"
    }
   ],
   "source": [
    "graphplot3(n4)"
   ]
  },
  {
   "cell_type": "code",
   "execution_count": 17,
   "metadata": {},
   "outputs": [
    {
     "name": "stdout",
     "output_type": "stream",
     "text": [
      "IGRAPH U--- 50 47 -- \n",
      "+ attr: color (v), x (v), y (v), color (e)\n"
     ]
    }
   ],
   "source": [
    "summary(n4)"
   ]
  },
  {
   "cell_type": "markdown",
   "metadata": {},
   "source": [
    "We can plot a distribution of network characteristics such as degree, edge betweenness, and eigenvector centrality. This helps us see how random graphs behave.\n",
    "\n",
    "If we create a larger graph, we can see that the distributions tend to be normal for the Erdos-Renyi model, but not for the geographic algorithm. The random geometric graph seems to follow more of a chi-square distribution for the degree and edge betweenness, and a power law for the eigenvector centrality. This is because the geographic algorithm is biased in that collections of edges are likely to be connected because they were geographically close. This creates specific groups and also make nodes that happened to fall in the center more well connected to the rest of the group since they fall between each of the edges. While the geographic algorithm is random, the distributions are not normal, so it is more useful to compare future networks to the Erdos-Renyi netowrk. "
   ]
  },
  {
   "cell_type": "code",
   "execution_count": 3,
   "metadata": {},
   "outputs": [],
   "source": [
    "def distributions(net,bins2):\n",
    "    y=net.degree()\n",
    "    z=net.edge_betweenness()\n",
    "    w=net.eigenvector_centrality(directed=False, scale=True)\n",
    "    plt.hist(y,bins='auto');\n",
    "    plt.title(\"Distribution of Node Degrees\")\n",
    "    plt.show()\n",
    "    plt.hist(z,bins='auto');\n",
    "    plt.title(\"Distribution of Edge Betweenness\")\n",
    "    plt.show()\n",
    "    plt.hist(w,bins=bins2);\n",
    "    plt.title(\"Distribution of Node Eigenvector Centrality\")\n",
    "    plt.show()"
   ]
  },
  {
   "cell_type": "code",
   "execution_count": 19,
   "metadata": {},
   "outputs": [],
   "source": [
    "n5=Graph.Erdos_Renyi(500, 0.05, directed=False, loops=False)\n",
    "n6=Graph.GRG(250,0.05)"
   ]
  },
  {
   "cell_type": "code",
   "execution_count": 20,
   "metadata": {},
   "outputs": [
    {
     "data": {
      "image/png": "[encoded data removed]",
      "text/plain": [
       "<matplotlib.figure.Figure at 0x108b9a080>"
      ]
     },
     "metadata": {},
     "output_type": "display_data"
    },
    {
     "data": {
      "image/png": "[encoded data removed]",
      "text/plain": [
       "<matplotlib.figure.Figure at 0x10e883198>"
      ]
     },
     "metadata": {},
     "output_type": "display_data"
    },
    {
     "data": {
      "image/png": "[encoded data removed]",
      "text/plain": [
       "<matplotlib.figure.Figure at 0x111dd6e80>"
      ]
     },
     "metadata": {},
     "output_type": "display_data"
    }
   ],
   "source": [
    "distributions(n5,'auto')"
   ]
  },
  {
   "cell_type": "code",
   "execution_count": 21,
   "metadata": {},
   "outputs": [
    {
     "data": {
      "image/png": "[encoded data removed]",
      "text/plain": [
       "<matplotlib.figure.Figure at 0x111e1dc50>"
      ]
     },
     "metadata": {},
     "output_type": "display_data"
    },
    {
     "data": {
      "image/png": "[encoded data removed]",
      "text/plain": [
       "<matplotlib.figure.Figure at 0x111f95d30>"
      ]
     },
     "metadata": {},
     "output_type": "display_data"
    },
    {
     "data": {
      "image/png": "[encoded data removed]",
      "text/plain": [
       "<matplotlib.figure.Figure at 0x111d37e48>"
      ]
     },
     "metadata": {},
     "output_type": "display_data"
    }
   ],
   "source": [
    "bins=(np.arange(0,1,0.05))\n",
    "distributions(n6,bins)"
   ]
  },
  {
   "cell_type": "markdown",
   "metadata": {
    "collapsed": true
   },
   "source": [
    "## Simulating Social Networks\n",
    "The primary goal of this project is to simulate social networks using simple rules and to see whether the emergent properties of the simulations match observed properties of social networks. \n",
    "\n",
    "These simulations will be based off of the following social concepts:\n",
    "1. Proximity: people who are physically closer to each other tend to form relationships more easily. A good measure of proximity is geographic location distance.  \n",
    "2. Popularity: people who are more popular tend to have an easier time making more friends, while people who are not popular tend to struggle making more friends (obviously this is an oversimplification but this is how I made the model). A good measure of popularity is degree, which is the number of nodes that a node is connected to. \n",
    "3. Influence: people with influence tend to be drawn to other people with influence. Influence tends to increase proportionally to the amount an individual has (also oversimplifaction). A good measure of influence is the eigenvector centrality of a node, or the betweenness centrality. \n",
    "4. Dunbar's Number: There is a limit to the number of significant relationships an individual can have, called Dunbar's Number (https://en.wikipedia.org/wiki/Dunbar%27s_number). It lies somewhere around 150, however my networks are relatively small so I might make dunbar's number smaller. Dunbar's Number sets a maximum for the degree of a node. "
   ]
  },
  {
   "cell_type": "markdown",
   "metadata": {},
   "source": [
    "First we must create a network to simulate. Initially the network will have no edges and the locations of the nodes will be in a circle. The color of the edges will be based on the betweenness centrality of the edges, which starts at 1. The color of the nodes will be based on the degree which starts at 0 for each node. This will show some of the network characteristics within the graph. "
   ]
  },
  {
   "cell_type": "markdown",
   "metadata": {},
   "source": [
    "### Creating Initial Graphs to Simulate"
   ]
  },
  {
   "cell_type": "markdown",
   "metadata": {},
   "source": [
    "Creating a Random Graph using the Erdos Renyi method."
   ]
  },
  {
   "cell_type": "code",
   "execution_count": 3,
   "metadata": {},
   "outputs": [],
   "source": [
    "def CreateErdos(n,p):\n",
    "    net=Graph.Erdos_Renyi(n, p, directed=False, loops=False)\n",
    "    #Graph(n)\n",
    "    #random coordinates\n",
    "    x=[]\n",
    "    y=[]\n",
    "    x=np.arange(0,400,400/n)\n",
    "    y=np.arange(0,400,400/n)\n",
    "    random.shuffle(x)\n",
    "    random.shuffle(y)\n",
    "    nodecolors=[0]*n\n",
    "    if max(net.degree())>0:\n",
    "        d=max(net.degree())\n",
    "    else:\n",
    "        d=1\n",
    "    if len(net.edge_betweenness())>0:\n",
    "        c=max(net.edge_betweenness())\n",
    "    else:\n",
    "        c=1\n",
    "    for i in range(n):\n",
    "        nodecolors[i]=(int(254*net.degree()[i]/d),0,int(255-254*net.degree()[i]/d ))\n",
    "    edgecolors=[0]*len(net.get_edgelist())\n",
    "    for i in range(n):\n",
    "            for j in range(n):\n",
    "                if (i,j) in net.get_edgelist():\n",
    "                    a=net.get_eid(i,j)\n",
    "                    b=net.edge_betweenness()[a]/c\n",
    "                    edgecolors[i]=(int(140-b*140),int(b*140),255)  \n",
    "    net.vs[\"x\"]=x\n",
    "    net.vs[\"y\"]=y\n",
    "    net.vs[\"color\"]=nodecolors\n",
    "    net.es[\"color\"]=edgecolors\n",
    "    return net"
   ]
  },
  {
   "cell_type": "markdown",
   "metadata": {},
   "source": [
    "Creating an empty network. "
   ]
  },
  {
   "cell_type": "code",
   "execution_count": 4,
   "metadata": {},
   "outputs": [],
   "source": [
    "def CreateEmpty(n):\n",
    "    net=Graph(n)\n",
    "    #Graph(n)\n",
    "    #random coordinates\n",
    "    x=[]\n",
    "    y=[]\n",
    "    x=np.arange(600/n,600,600/n)\n",
    "    y=np.arange(600/n,600,600/n)\n",
    "    random.shuffle(x)\n",
    "    random.shuffle(y)\n",
    "    nodecolors=[0]*n\n",
    "    edgecolors=[0]*len(net.get_edgelist())\n",
    "    if max(net.degree())>0:\n",
    "        d=max(net.degree())\n",
    "    else:\n",
    "        d=1\n",
    "    if len(net.edge_betweenness())>0:\n",
    "        c=max(net.edge_betweenness())\n",
    "    else:\n",
    "        c=1\n",
    "    for i in range(n):\n",
    "        nodecolors[i]=(int(254*net.degree()[i]/d),0,int(255-254*net.degree()[i]/d ))\n",
    "    for i in range(n):\n",
    "            for j in range(n):\n",
    "                if (i,j) in net.get_edgelist():\n",
    "                    a=net.get_eid(i,j)\n",
    "                    b=net.edge_betweenness()[a]/c\n",
    "                    edgecolors[i]='red'#(int(140-b*140),0,0)  #int(b*140)\n",
    "    net.vs[\"x\"]=x\n",
    "    net.vs[\"y\"]=y\n",
    "    net.vs[\"color\"]=nodecolors\n",
    "    net.es[\"color\"]=edgecolors#edgecolors\n",
    "    return net"
   ]
  },
  {
   "cell_type": "markdown",
   "metadata": {},
   "source": [
    "Creating a Geometric Random Network"
   ]
  },
  {
   "cell_type": "code",
   "execution_count": 3,
   "metadata": {},
   "outputs": [],
   "source": [
    "def CreateGeo(n,d):\n",
    "    net=Graph.GRG(n,d)\n",
    "    nodecolors=[0]*n\n",
    "    edgecolors=[0]*len(net.get_edgelist())\n",
    "    net.vs[\"x\"]=[float(x*590) for x in net.vs[\"x\"]]\n",
    "    net.vs[\"y\"]=[float(y*590) for y in net.vs[\"y\"]]\n",
    "    if max(net.degree())>0:\n",
    "        d=max(net.degree())\n",
    "    else:\n",
    "        d=1\n",
    "    if len(net.edge_betweenness())>0:\n",
    "        c=max(net.edge_betweenness())\n",
    "    else:\n",
    "        c=1\n",
    "    for i in range(n):\n",
    "        nodecolors[i]=(int(254*net.degree()[i]/d),0,int(255-254*net.degree()[i]/d ))\n",
    "        '''for i in range(n):\n",
    "            for j in range(n):\n",
    "                if (i,j) in net.get_edgelist():\n",
    "                    a=net.get_eid(i,j)\n",
    "                    b=net.edge_betweenness()[a]/c\n",
    "                    edgecolors[i]=(int(140-b*140),int(b*140),255) ''' \n",
    "    net.vs[\"color\"]=nodecolors\n",
    "    net.es[\"color\"]=edgecolors\n",
    "    return net"
   ]
  },
  {
   "cell_type": "markdown",
   "metadata": {},
   "source": [
    "Creating an Empty Network with circular coordinates"
   ]
  },
  {
   "cell_type": "code",
   "execution_count": 6,
   "metadata": {},
   "outputs": [],
   "source": [
    "def CreateCircular(n):\n",
    "    net=Graph(n)\n",
    "    #Graph(n)\n",
    "    #random coordinates\n",
    "    x=[]\n",
    "    y=[]\n",
    "    for i in range(n):\n",
    "        theta = 2.*np.pi*float(i)/n\n",
    "        x.append(150 * np.cos(theta) + 200)\n",
    "        y.append(150 * np.sin(theta) + 200)\n",
    "    nodecolors=[0]*n\n",
    "    edgecolors=[0]*len(net.get_edgelist())\n",
    "    if max(net.degree())>0:\n",
    "        d=max(net.degree())\n",
    "    else:\n",
    "        d=1\n",
    "    if len(net.edge_betweenness())>0:\n",
    "        c=max(net.edge_betweenness())\n",
    "    else:\n",
    "        c=1\n",
    "    for i in range(n):\n",
    "        nodecolors[i]=(int(254*net.degree()[i]/d),0,int(255-254*net.degree()[i]/d ))\n",
    "    for i in range(n):\n",
    "            for j in range(n):\n",
    "                if (i,j) in net.get_edgelist():\n",
    "                    a=net.get_eid(i,j)\n",
    "                    b=net.edge_betweenness()[a]/c\n",
    "                    edgecolors[i]=(int(140-b*140),int(b*140),255)  \n",
    "    net.vs[\"x\"]=x\n",
    "    net.vs[\"y\"]=y\n",
    "    net.vs[\"color\"]=nodecolors\n",
    "    net.es[\"color\"]=edgecolors\n",
    "    return net"
   ]
  },
  {
   "cell_type": "markdown",
   "metadata": {},
   "source": [
    "Creating a Connected Circular Graph"
   ]
  },
  {
   "cell_type": "code",
   "execution_count": 7,
   "metadata": {},
   "outputs": [],
   "source": [
    "def CreateConCirc(n):\n",
    "    net=Graph(n)\n",
    "    #Graph(n)\n",
    "    #random coordinates\n",
    "    '''x=[]\n",
    "    y=[]\n",
    "    for i in range(n):\n",
    "        theta = 2.*np.pi*float(i)/n\n",
    "        x.append(200 * np.cos(theta) + 300)\n",
    "        y.append(200 * np.sin(theta) + 300)'''\n",
    "        \n",
    "    x=[]\n",
    "    y=[]\n",
    "    x=np.arange(600/n,600,600/n)\n",
    "    y=np.arange(600/n,600,600/n)\n",
    "    random.shuffle(x)\n",
    "    random.shuffle(y)\n",
    "    \n",
    "    nodecolors=[0]*n\n",
    "    edgecolors=[0]*len(net.get_edgelist())\n",
    "    if max(net.degree())>0:\n",
    "        d=max(net.degree())\n",
    "    else:\n",
    "        d=1\n",
    "    if len(net.edge_betweenness())>0:\n",
    "        c=max(net.edge_betweenness())\n",
    "    else:\n",
    "        c=1\n",
    "    for i in range(n):\n",
    "        nodecolors[i]=(int(254*net.degree()[i]/d),0,int(255-254*net.degree()[i]/d ))\n",
    "    net.add_edges([(0,n-1)])\n",
    "    for j in range(n-1):\n",
    "        net.add_edges([(j,j+1)])\n",
    "    \"\"\"for i in range(n):\n",
    "            for j in range(n):\n",
    "                if (i,j) in net.get_edgelist():\n",
    "                    a=net.get_eid(i,j)\n",
    "                    b=net.edge_betweenness()[a]/c\n",
    "                    edgecolors[i]=(int(140-b*140),int(b*140),255)  \"\"\"\n",
    "    net.vs[\"x\"]=x\n",
    "    net.vs[\"y\"]=y\n",
    "    net.vs[\"color\"]=nodecolors\n",
    "    net.es[\"color\"]='red'#edgecolors\n",
    "    return net"
   ]
  },
  {
   "cell_type": "code",
   "execution_count": 8,
   "metadata": {},
   "outputs": [],
   "source": [
    "def resetcolors(net):\n",
    "    n=len(net.degree())\n",
    "    nodecolors=[0]*n\n",
    "    if max(net.degree())>0:\n",
    "        d=max(net.edge_betweenness())\n",
    "    else:\n",
    "        d=1\n",
    "    if len(net.edge_betweenness())>0:\n",
    "        c=max(net.edge_betweenness())\n",
    "    else:\n",
    "        c=1\n",
    "    for i in range(n):\n",
    "        nodecolors[i]=(int(254*net.degree()[i]/d),0,int(255-254*net.degree()[i]/d ))\n",
    "    edgecolors=[0]*len(net.get_edgelist())\n",
    "    for i in range(n):\n",
    "            for j in range(n):\n",
    "                if (i,j) in net.get_edgelist():\n",
    "                    a=net.get_eid(i,j)\n",
    "                    b=net.edge_betweenness()[a]/c\n",
    "                    edgecolors[i]=(int(140-b*140),int(b*140),0)\n",
    "    net.vs[\"color\"]=nodecolors\n",
    "    net.es[\"color\"]=edgecolors\n",
    "    return net, print(edgecolors[19])"
   ]
  },
  {
   "cell_type": "code",
   "execution_count": 9,
   "metadata": {},
   "outputs": [],
   "source": [
    "def graphplot3(net):\n",
    "    n = len(net.degree())\n",
    "    #number of nodes\n",
    "    windowsize=600\n",
    "    xd=net.vs[\"x\"]\n",
    "    yd=net.vs[\"y\"]\n",
    "    im = Image.new('RGB', (windowsize,windowsize), 'white')\n",
    "    draw = ImageDraw.Draw(im)\n",
    "    #draw.line((0,250, 250,600), fill=128)\n",
    "    dotsize=15\n",
    "    #if len(n2.edge_betweenness())>0:\n",
    "     #   c=max(n2.edge_betweenness())\n",
    "   # else:\n",
    "     #   c=1\n",
    "    center = windowsize/2.\n",
    "    radius = (1.-2*20)*(n+1)/2.\n",
    "    #xd, yd = np.arange(0,400,400//n), np.arange(0,400,400//n)\n",
    "    # Create a dictionary that maps nodes to their positions around the circle\n",
    "    l=len(net.get_edgelist())\n",
    "    for j in range(l):\n",
    "        a=net.get_edgelist()[j]\n",
    "        draw.line(((xd[a[1]],yd[a[1]]), (xd[a[0]],yd[a[0]])),fill=(net.es[\"color\"][j]))\n",
    "    for i in range(n):\n",
    "         draw.ellipse( ((xd[i]-dotsize/2, yd[i]-dotsize/2),\n",
    "                       (xd[i]+dotsize/2, yd[i]+dotsize/2)), fill=(net.vs[\"color\"][i]))\n",
    "    \n",
    "    return im"
   ]
  },
  {
   "cell_type": "markdown",
   "metadata": {},
   "source": [
    "This is used to reset the colors after a simulation. "
   ]
  },
  {
   "cell_type": "markdown",
   "metadata": {},
   "source": [
    "### The Simple Proximity Model\n",
    "This simulation is based on the concept that people who are near each other are more likely to form relationships with each other and the the idea that once relationships are formed, people tend to move closer to each other. The algorithm for this simulation is as follows:\n",
    "1. For each iteration, randomly select pairs of nodes, where no node is in more than one pair (If the number of nodes is odd, then one node is left out, but it is a random node each time so it doesn't matter).\n",
    "2. If the nodes of a pair are within a predetermined distance of each other and they have not already formed an edge, then they form an edge. \n",
    "3. If the nodes form an edge, the first node in the pair moves towards the other node with a distance that is half of the distance they were apart (This fraction can be changed to see what happens). \n",
    "4. Repeat this process for each pair in the iteration and repeat for the specified number of iterations. "
   ]
  },
  {
   "cell_type": "code",
   "execution_count": 10,
   "metadata": {},
   "outputs": [],
   "source": [
    "def simulation1(net,it,distance):\n",
    "    n = len(net.degree())\n",
    "    for i in range(it):\n",
    "        a=np.arange(n)\n",
    "        random.shuffle(a)\n",
    "        for j in range(n//2):\n",
    "            b=2*j\n",
    "            c=2*j+1\n",
    "            xa=net.vs[\"x\"]\n",
    "            ya=net.vs[\"y\"]\n",
    "            x1 = net.vs[\"x\"][a[b]]\n",
    "            x2 = net.vs[\"x\"][a[c]]\n",
    "            y1 = net.vs[\"y\"][a[b]]\n",
    "            y2 = net.vs[\"y\"][a[c]]\n",
    "            if math.hypot(x2-x1,y2-y1)<distance:\n",
    "                if (a[b],a[c]) or (a[c],a[b]) not in net.get_edgelist():\n",
    "                    net.add_edges([(a[b],a[c])])\n",
    "                xa[a[b]]=(x2-x1)/2 + x1\n",
    "                ya[a[b]]=(y2-y1)/2 + y1 \n",
    "                net.vs[\"x\"]=xa\n",
    "                net.vs[\"y\"]=ya\n",
    "  #      for k in range(n):          \n",
    "    return net "
   ]
  },
  {
   "cell_type": "code",
   "execution_count": 111,
   "metadata": {},
   "outputs": [],
   "source": [
    "n7 = CreateEmpty(150)"
   ]
  },
  {
   "cell_type": "code",
   "execution_count": 113,
   "metadata": {},
   "outputs": [
    {
     "data": {
      "text/plain": [
       "<igraph.Graph at 0x1092645e8>"
      ]
     },
     "execution_count": 113,
     "metadata": {},
     "output_type": "execute_result"
    }
   ],
   "source": [
    "simulation1(n7,150,150)"
   ]
  },
  {
   "cell_type": "code",
   "execution_count": 114,
   "metadata": {},
   "outputs": [
    {
     "data": {
      "image/png": "[encoded data removed]",
      "text/plain": [
       "<matplotlib.figure.Figure at 0x11477a128>"
      ]
     },
     "metadata": {},
     "output_type": "display_data"
    },
    {
     "data": {
      "image/png": "[encoded data removed]",
      "text/plain": [
       "<matplotlib.figure.Figure at 0x115e21da0>"
      ]
     },
     "metadata": {},
     "output_type": "display_data"
    },
    {
     "data": {
      "image/png": "[encoded data removed]",
      "text/plain": [
       "<matplotlib.figure.Figure at 0x11669de10>"
      ]
     },
     "metadata": {},
     "output_type": "display_data"
    }
   ],
   "source": [
    "distributions(n7,'auto')"
   ]
  },
  {
   "cell_type": "code",
   "execution_count": 35,
   "metadata": {},
   "outputs": [
    {
     "data": {
      "text/plain": [
       "[0.709396017119399, 7]"
      ]
     },
     "execution_count": 35,
     "metadata": {},
     "output_type": "execute_result"
    }
   ],
   "source": [
    "modularity(n7)"
   ]
  },
  {
   "cell_type": "markdown",
   "metadata": {},
   "source": [
    "If the number of iterations is high enough (<15 or so) you can begin to see groups form. When the coordinates are circular, the groups tend to appear in some sort of polygon, where the groups form a vertex of the polygon. When the coordinates are random, the groups form at different points of the window and are generally disconnected. "
   ]
  },
  {
   "cell_type": "markdown",
   "metadata": {
    "collapsed": true
   },
   "source": [
    "#### Measuring and Comparing the Simulated Graph\n",
    "Since the geographic simulation is meant to show groups, I will find the optimal modules of the network and compute the modularity of the network. This can be compared to the modularity of the Erdos-Reyni network. I will also show the distribution of the network characteristics.  "
   ]
  },
  {
   "cell_type": "code",
   "execution_count": 11,
   "metadata": {},
   "outputs": [],
   "source": [
    "def modularity(net):\n",
    "    n = len(net.degree())\n",
    "    b=net.community_optimal_modularity()\n",
    "    modules = len(b)\n",
    "    x=np.zeros(n)\n",
    "    for i in range(modules):\n",
    "        a=len(b[i])\n",
    "        for j in range(a):\n",
    "            x[b[i][j]]=i\n",
    "    return [net.modularity(x, weights=None), modules]\n",
    "#this function calculates the modularity of a network \n",
    "#by first finding the optimal groups and then calculating the modularity\n",
    "#it outputs the modularity and the number of groups\n",
    "#for the geographic simulation, the number of groups should match the visible groups"
   ]
  },
  {
   "cell_type": "code",
   "execution_count": 10,
   "metadata": {},
   "outputs": [],
   "source": [
    "n7 = CreateEmpty(50)"
   ]
  },
  {
   "cell_type": "code",
   "execution_count": 11,
   "metadata": {},
   "outputs": [
    {
     "data": {
      "text/plain": [
       "<igraph.Graph at 0x108efc9a8>"
      ]
     },
     "execution_count": 11,
     "metadata": {},
     "output_type": "execute_result"
    }
   ],
   "source": [
    "simulation1(n7,50,150)"
   ]
  },
  {
   "cell_type": "code",
   "execution_count": null,
   "metadata": {},
   "outputs": [],
   "source": [
    "modularity(n7)"
   ]
  },
  {
   "cell_type": "code",
   "execution_count": 17,
   "metadata": {},
   "outputs": [],
   "source": [
    "n8 = CreateErdos(20,0.1)"
   ]
  },
  {
   "cell_type": "code",
   "execution_count": 18,
   "metadata": {},
   "outputs": [
    {
     "data": {
      "text/plain": [
       "[0.4112499999999999, 8]"
      ]
     },
     "execution_count": 18,
     "metadata": {},
     "output_type": "execute_result"
    }
   ],
   "source": [
    "modularity(n8)"
   ]
  },
  {
   "cell_type": "markdown",
   "metadata": {
    "collapsed": true
   },
   "source": [
    "The modularity for the simulated network is usually around 0.64 (for the given network), while the random network modularity is around 0.3. Clearly the simulated network forms much stronger groups of nodes. The flaw with this model is that it exaggerates the distribution of edge betweenness because edges between two groups are given very high importance. In reality, the edge betweeness distribution should be a little more evenly distributed. "
   ]
  },
  {
   "cell_type": "markdown",
   "metadata": {},
   "source": [
    "### The Simple Popularity Model\n",
    "This simulation is based on the concept that people who are popular tend to make social connections more easily than those who are not popular. This simulation will be based on a simple algorithm:\n",
    "1. For each iteration, select two nodes from a list of the nodes where each node appears in the list as many times as it has edges. This list will be called the degree distribution. \n",
    "\n",
    "This algorithm has the effect of making nodes with high degree more likely to increase their degree over each iteration creating a long tailed distribution. "
   ]
  },
  {
   "cell_type": "code",
   "execution_count": 31,
   "metadata": {},
   "outputs": [],
   "source": [
    "def PopSimulation(net,it):\n",
    "    n = len(net.degree())\n",
    "    deg=net.degree()\n",
    "    nlist=np.arange(n)\n",
    "    z = np.concatenate([[i]*deg[i] for i in nlist])\n",
    "    for i in range(it):\n",
    "        a=random.choice(z)\n",
    "        b=random.choice(z)\n",
    "        net.add_edges([(int(a),int(b))])\n",
    "        z= np.append(z,a)\n",
    "        z= np.append(z,b)\n",
    "    return net"
   ]
  },
  {
   "cell_type": "code",
   "execution_count": 32,
   "metadata": {},
   "outputs": [],
   "source": [
    "n9 = CreateConCirc(40)"
   ]
  },
  {
   "cell_type": "code",
   "execution_count": 34,
   "metadata": {},
   "outputs": [
    {
     "data": {
      "text/plain": [
       "<igraph.Graph at 0x1166a1e58>"
      ]
     },
     "execution_count": 34,
     "metadata": {},
     "output_type": "execute_result"
    }
   ],
   "source": [
    "PopSimulation(n9,100)"
   ]
  },
  {
   "cell_type": "code",
   "execution_count": null,
   "metadata": {},
   "outputs": [],
   "source": [
    "modularity(n9)"
   ]
  },
  {
   "cell_type": "code",
   "execution_count": 61,
   "metadata": {},
   "outputs": [
    {
     "data": {
      "image/png": "[encoded data removed]",
      "text/plain": [
       "<matplotlib.figure.Figure at 0x11442fd30>"
      ]
     },
     "metadata": {},
     "output_type": "display_data"
    },
    {
     "data": {
      "image/png": "[encoded data removed]",
      "text/plain": [
       "<matplotlib.figure.Figure at 0x114425f28>"
      ]
     },
     "metadata": {},
     "output_type": "display_data"
    },
    {
     "data": {
      "image/png": "[encoded data removed]",
      "text/plain": [
       "<matplotlib.figure.Figure at 0x11434bac8>"
      ]
     },
     "metadata": {},
     "output_type": "display_data"
    }
   ],
   "source": [
    "distributions(n9,'auto')"
   ]
  },
  {
   "cell_type": "markdown",
   "metadata": {},
   "source": [
    "The benefit of this model is that it gives a useful distribution of the eigenvector centrality and edge betweennes because it they have long tails but are more evenly distributed than the Proximity Model"
   ]
  },
  {
   "cell_type": "markdown",
   "metadata": {},
   "source": [
    "## The Combination Model\n",
    "For the final simulation I combined the two previous simulations to see if it would display properties from both simulations. The algorithm is as follows:\n",
    "1. For each iteration, randomly select pairs of nodes, where no node is in more than one pair (If the number of nodes is odd, then one node is left out, but it is a random node each time so it doesn't matter).\n",
    "2. If the nodes of a pair are within a predetermined distance of each other and they have not already formed an edge, then they form an edge. \n",
    "3. If the nodes form an edge, the first node in the pair moves towards the other node with a distance that is half of the distance they were apart (This fraction can be changed to see what happens). \n",
    "4. If the nodes do not form an edge, select two new random nodes from the degree distribution and form an edge. \n",
    "\n",
    "This simulation combines aspects from the geographical and popularity simulations, so we should expect to see properties from both. "
   ]
  },
  {
   "cell_type": "code",
   "execution_count": 14,
   "metadata": {},
   "outputs": [],
   "source": [
    "def ComboSimulation(net,it,distance):\n",
    "    n = len(net.degree())\n",
    "    deg=net.degree()\n",
    "    nlist=np.arange(n)\n",
    "    z = np.concatenate([[i]*deg[i] for i in nlist])\n",
    "    for i in range(it):\n",
    "        a=np.arange(n)\n",
    "        random.shuffle(a)\n",
    "        for j in range(n//2):\n",
    "            b=2*j\n",
    "            c=2*j+1\n",
    "            xa=net.vs[\"x\"]\n",
    "            ya=net.vs[\"y\"]\n",
    "            x1 = net.vs[\"x\"][a[b]]\n",
    "            x2 = net.vs[\"x\"][a[c]]\n",
    "            y1 = net.vs[\"y\"][a[b]]\n",
    "            y2 = net.vs[\"y\"][a[c]]\n",
    "            if math.hypot(x2-x1,y2-y1)<distance:\n",
    "                if (a[b],a[c]) or (a[c],a[b]) not in net.get_edgelist():\n",
    "                    net.add_edges([(a[b],a[c])])\n",
    "                else:\n",
    "                    a=random.choice(z)\n",
    "                    b=random.choice(z)\n",
    "                    net.add_edges([(a,b)])\n",
    "                    z= np.append(z,a)\n",
    "                    z= np.append(z,b)\n",
    "                xa[a[b]]=(x2-x1)/2 + x1\n",
    "                ya[a[b]]=(y2-y1)/2 + y1 \n",
    "                net.vs[\"x\"]=xa\n",
    "                net.vs[\"y\"]=ya\n",
    "  #      for k in range(n):          \n",
    "    return net "
   ]
  },
  {
   "cell_type": "code",
   "execution_count": 26,
   "metadata": {},
   "outputs": [],
   "source": [
    "n10=CreateConCirc(50)\n",
    "#n can go up to 1000 or so"
   ]
  },
  {
   "cell_type": "code",
   "execution_count": 27,
   "metadata": {},
   "outputs": [
    {
     "data": {
      "text/plain": [
       "<igraph.Graph at 0x1166a1c78>"
      ]
     },
     "execution_count": 27,
     "metadata": {},
     "output_type": "execute_result"
    }
   ],
   "source": [
    "ComboSimulation(n10,50,100)\n",
    "#simulations can be up to 5000-10000 without being too slow"
   ]
  },
  {
   "cell_type": "code",
   "execution_count": null,
   "metadata": {},
   "outputs": [],
   "source": [
    "modularity(n10)\n",
    "#ONLY RUN IF LOW N"
   ]
  },
  {
   "cell_type": "code",
   "execution_count": null,
   "metadata": {
    "scrolled": true
   },
   "outputs": [],
   "source": [
    "graphplot3(n10)\n",
    "#only run for n<500 and not too many edges. "
   ]
  },
  {
   "cell_type": "code",
   "execution_count": 44,
   "metadata": {},
   "outputs": [
    {
     "data": {
      "text/plain": [
       "11000"
      ]
     },
     "execution_count": 44,
     "metadata": {},
     "output_type": "execute_result"
    }
   ],
   "source": [
    "len(n10.get_edgelist())"
   ]
  },
  {
   "cell_type": "markdown",
   "metadata": {},
   "source": [
    "The simulation for 10,000 iterations at 1,000 nodes takes around 10 seconds to run. The distributions are clearly heavily skewed toward the right. This generally matches observed distributions of influence. "
   ]
  },
  {
   "cell_type": "code",
   "execution_count": 83,
   "metadata": {},
   "outputs": [
    {
     "data": {
      "image/png": "[encoded data removed]",
      "text/plain": [
       "<matplotlib.figure.Figure at 0x113dbf4a8>"
      ]
     },
     "metadata": {},
     "output_type": "display_data"
    },
    {
     "data": {
      "image/png": "[encoded data removed]",
      "text/plain": [
       "<matplotlib.figure.Figure at 0x114773cf8>"
      ]
     },
     "metadata": {},
     "output_type": "display_data"
    },
    {
     "data": {
      "image/png": "[encoded data removed]",
      "text/plain": [
       "<matplotlib.figure.Figure at 0x113f42e48>"
      ]
     },
     "metadata": {},
     "output_type": "display_data"
    }
   ],
   "source": [
    "distributions(n10,'auto')"
   ]
  },
  {
   "cell_type": "markdown",
   "metadata": {},
   "source": [
    "This model combines benefical aspects of the Proximity and Popularity models. The degree distribution is normal and has a resonable maximum that fits well with Dunbar's number, while the edge betweenness and eigenvector centralities have long tailed distributions while also exhibitting a more even distribution (ie higher average value) than the Proximity model. Additionally, the modularity of this model compares well with the modularity of the Proximity Model, which is designed to have high modularity."
   ]
  },
  {
   "cell_type": "markdown",
   "metadata": {},
   "source": [
    "## Conclusion:\n",
    "The models used to represent social networks succeeded in reproducing observed phenomena. The proximity model was able to create strong groups after several iterations as seen by the modularity. The Popularity model produced long right-skewed distributions of edge betweenness and eigenvector centrality. However this model also produced right skewed degree distributions which do not make sense in the context of social networks. However, the Combination model, which used parts of both models was able to produce strong groups, sensible right-skewed edge betweenness and eigenvector centrality distributions and a roughly normal degree distribution. \n"
   ]
  },
  {
   "cell_type": "code",
   "execution_count": null,
   "metadata": {},
   "outputs": [],
   "source": []
  }
 ],
 "metadata": {
  "kernelspec": {
   "display_name": "Python 3",
   "language": "python",
   "name": "python3"
  },
  "language_info": {
   "codemirror_mode": {
    "name": "ipython",
    "version": 3
   },
   "file_extension": ".py",
   "mimetype": "text/x-python",
   "name": "python",
   "nbconvert_exporter": "python",
   "pygments_lexer": "ipython3",
   "version": "3.6.4"
  }
 },
 "nbformat": 4,
 "nbformat_minor": 2
}
